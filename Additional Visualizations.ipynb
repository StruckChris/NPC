{
 "cells": [
  {
   "cell_type": "code",
   "execution_count": 1,
   "id": "e4d06c29",
   "metadata": {},
   "outputs": [],
   "source": [
    "#creating Visualizations of Wage and Cost Data"
   ]
  },
  {
   "cell_type": "code",
   "execution_count": null,
   "id": "89456a5a",
   "metadata": {},
   "outputs": [],
   "source": [
    "import pandas as pd\n",
    "import numpy as np\n",
    "import seaborn as sns\n",
    "import matplotlib.pyplot as plt"
   ]
  },
  {
   "cell_type": "code",
   "execution_count": null,
   "id": "9c163f83",
   "metadata": {},
   "outputs": [],
   "source": [
    "CostDF = pd.read_csv('StateCostDF.csv',index_col=0)\n",
    "WageDF = pd.read_csv('StateWageDF.csv',index_col=0)\n",
    "#salary and price parity\n",
    "SalPar = pd.read_csv('combined.csv')"
   ]
  },
  {
   "cell_type": "code",
   "execution_count": null,
   "id": "4571aa5f",
   "metadata": {},
   "outputs": [],
   "source": [
    "#WageDF.head(5)"
   ]
  },
  {
   "cell_type": "code",
   "execution_count": null,
   "id": "177fd5d0",
   "metadata": {},
   "outputs": [],
   "source": [
    "SalPar.rename(columns = {'Standardized Income':'Income v Parity'}, inplace = True)\n",
    "SalPar.head()"
   ]
  },
  {
   "cell_type": "code",
   "execution_count": null,
   "id": "6c240057",
   "metadata": {},
   "outputs": [],
   "source": [
    "CostSum = CostDF.where(CostDF['CostType'] != 'Required annual income after taxes').dropna(subset='CostType')\n",
    "CostSum = CostSum.where(CostSum['CostType'] != 'Required annual income before taxes').dropna(subset='CostType')\n",
    "CostSum = CostSum.groupby('State').sum()\n",
    "CostSum.reset_index(inplace=True)\n",
    "CostSum.head()"
   ]
  },
  {
   "cell_type": "code",
   "execution_count": null,
   "id": "b5a875f1",
   "metadata": {},
   "outputs": [],
   "source": [
    "WageTarg = WageDF.where(WageDF['WageType'] == 'Living Wage').dropna(subset='WageType')\n",
    "WageTarg.drop(['WageType'],axis=1,inplace=True)\n",
    "for column in WageTarg.columns:\n",
    "    if column == 'State':\n",
    "        continue\n",
    "    else:\n",
    "        WageTarg[column] = WageTarg[column].apply(lambda x: x * 40 * 52)\n"
   ]
  },
  {
   "cell_type": "code",
   "execution_count": null,
   "id": "d93b60fd",
   "metadata": {},
   "outputs": [],
   "source": [
    "WageTarg.columns"
   ]
  },
  {
   "cell_type": "code",
   "execution_count": null,
   "id": "bb6cea6e",
   "metadata": {},
   "outputs": [],
   "source": [
    "WagevCost = pd.DataFrame(columns=WageTarg.columns)\n",
    "for column in WageTarg.columns:\n",
    "    if column == 'State':\n",
    "        continue\n",
    "    else:\n",
    "        Wage = list(WageTarg[column])\n",
    "        Cost = list(CostSum[column])\n",
    "        WvC = []\n",
    "        if 'BOTH WORKING' in str(column):\n",
    "            for i in range(len(Wage)):\n",
    "                WvC.append(2*Wage[i] / Cost[i])\n",
    "        else:\n",
    "            for i in range(len(Wage)):\n",
    "                WvC.append(Wage[i] / Cost[i])\n",
    "        #print(len(WvC))\n",
    "        WagevCost[column] = [x for x in WvC]\n",
    "#\n",
    "#print(adding)"
   ]
  },
  {
   "cell_type": "code",
   "execution_count": null,
   "id": "86ced086",
   "metadata": {},
   "outputs": [],
   "source": [
    "WagevCost.drop(['2 ADULTS(1 WORKING) - 0','2 ADULTS(1 WORKING) - 1',\n",
    "             '2 ADULTS(1 WORKING) - 2','2 ADULTS(1 WORKING) - 3'],axis=1,inplace=True)\n",
    "WagevCost['State'] = [x for x in WageTarg['State']]\n",
    "WagevCost.head()\n",
    "#map this data in a visualization"
   ]
  },
  {
   "cell_type": "code",
   "execution_count": null,
   "id": "111798d1",
   "metadata": {},
   "outputs": [],
   "source": [
    "WagevCost2 = pd.DataFrame(WagevCost['State'])\n",
    "WagevCost2['No Children'] = (WagevCost['1 ADULT - 0'] + WagevCost['2 ADULTS(BOTH WORKING) - 0'])/2\n",
    "WagevCost2['1 Child'] = (WagevCost['1 ADULT - 1'] + WagevCost['2 ADULTS(BOTH WORKING) - 1'])/2\n",
    "WagevCost2['2 Children'] = (WagevCost['1 ADULT - 2'] + WagevCost['2 ADULTS(BOTH WORKING) - 2'])/2\n",
    "WagevCost2['3 Children'] = (WagevCost['1 ADULT - 3'] + WagevCost['2 ADULTS(BOTH WORKING) - 3'])/2\n",
    "WagevCost2['Average'] = (WagevCost2['No Children'] + WagevCost2['1 Child']\n",
    "                                               + WagevCost2['2 Children'] + WagevCost2['3 Children'])/4\n",
    "WagevCost2.head(3)"
   ]
  },
  {
   "cell_type": "code",
   "execution_count": null,
   "id": "a4305afd",
   "metadata": {},
   "outputs": [],
   "source": [
    "Top5 = ['Wyoming', 'North Dakota', 'South Dakota', 'Massachusetts']\n",
    "'''Wyoming: $79,701\n",
    "North Dakota: $79,363\n",
    "Connecticut: $77,940\n",
    "South Dakota: $77,481\n",
    "Massachusetts: $77,300\n",
    "'''\n",
    "Top5CompSci = ['Washington', 'Virginia', 'New York', 'California']\n",
    "BothTop5 = ['Connecticut']\n",
    "\n",
    "def coloring(x):\n",
    "    if x in Top5:\n",
    "        return 'In Salary v Price Top 5'\n",
    "    elif x in Top5CompSci:\n",
    "        return 'Comp Sci Top 5'\n",
    "    elif x in BothTop5:\n",
    "        return 'In Both Top 5s'\n",
    "    else:\n",
    "        return 'Not in either Top 5'\n",
    "\n",
    "WagevCost2['Top 5 Best Salary v Price?'] = [coloring(x) for x in WagevCost2['State']]\n",
    "WagevCost2.head(15)"
   ]
  },
  {
   "cell_type": "code",
   "execution_count": null,
   "id": "57f733b2",
   "metadata": {},
   "outputs": [],
   "source": [
    "chart = plt.figure(figsize=(16,8))\n",
    "\n",
    "chart = sns.scatterplot(x = 'State',y='Average',\n",
    "                data = WagevCost2, hue = 'Top 5 Best Salary v Price?',legend=True)\n",
    "\n",
    "'''\n",
    "chart = sns.scatterplot(x = 'State',y='No Children',\n",
    "                data = WagevCost2, hue = 'Top 5 Best Salary v Price?',legend=True)\n",
    "\n",
    "chart = sns.scatterplot(x = 'State',y='1 Child',\n",
    "                data = WagevCost2, hue = 'Top 5 Best Salary v Price?',legend=False)\n",
    "\n",
    "chart = sns.scatterplot(x = 'State',y='2 Children',\n",
    "                data = WagevCost2, hue = 'Top 5 Best Salary v Price?',legend=False)\n",
    "\n",
    "chart = sns.scatterplot(x = 'State',y='3 Children',\n",
    "                data = WagevCost2, hue = 'Top 5 Best Salary v Price?',legend=False)\n",
    "'''\n",
    "chart.tick_params(axis='x', labelrotation=90)\n",
    "plt.ylabel('Average Across All Adults and Children')"
   ]
  },
  {
   "cell_type": "code",
   "execution_count": null,
   "id": "9c5ae518",
   "metadata": {},
   "outputs": [],
   "source": [
    "#average the wage and cost data horizontally\n",
    "#add that to the SalPar dataframe\n",
    "#map that out\n",
    "\n",
    "WageTargAvg = WageTarg.copy()\n",
    "WageTargAvg.drop(['State'],axis=1,inplace=True)\n",
    "#WageTargAvg.drop(['2 ADULTS(1 WORKING) - 0','2 ADULTS(1 WORKING) - 1',\n",
    "#             '2 ADULTS(1 WORKING) - 2','2 ADULTS(1 WORKING) - 3'],axis=1,inplace=True)\n",
    "WageTargAvg['Wage Average'] = WageTargAvg.mean(axis=1)\n",
    "WageTargAvg['State'] = WageTarg['State']\n",
    "WageTargAvg.drop(['1 ADULT - 0', '1 ADULT - 1', '1 ADULT - 2', '1 ADULT - 3',\n",
    "       '2 ADULTS(1 WORKING) - 0', '2 ADULTS(1 WORKING) - 1',\n",
    "       '2 ADULTS(1 WORKING) - 2', '2 ADULTS(1 WORKING) - 3',\n",
    "       '2 ADULTS(BOTH WORKING) - 0', '2 ADULTS(BOTH WORKING) - 1',\n",
    "       '2 ADULTS(BOTH WORKING) - 2', '2 ADULTS(BOTH WORKING) - 3'],axis=1,inplace=True)\n",
    "\n",
    "CostSumAvg = CostSum.copy()\n",
    "CostSumAvg.drop(['State'],axis=1,inplace=True)\n",
    "#CostSumAvg.drop(['2 ADULTS(1 WORKING) - 0','2 ADULTS(1 WORKING) - 1',\n",
    "#             '2 ADULTS(1 WORKING) - 2','2 ADULTS(1 WORKING) - 3'],axis=1,inplace=True)\n",
    "CostSumAvg['Cost Average'] = CostSumAvg.mean(axis=1)\n",
    "CostSumAvg['State'] = CostSum['State']\n",
    "CostSumAvg.drop(['1 ADULT - 0', '1 ADULT - 1', '1 ADULT - 2', '1 ADULT - 3',\n",
    "       '2 ADULTS(1 WORKING) - 0', '2 ADULTS(1 WORKING) - 1',\n",
    "       '2 ADULTS(1 WORKING) - 2', '2 ADULTS(1 WORKING) - 3',\n",
    "       '2 ADULTS(BOTH WORKING) - 0', '2 ADULTS(BOTH WORKING) - 1',\n",
    "       '2 ADULTS(BOTH WORKING) - 2', '2 ADULTS(BOTH WORKING) - 3'],axis=1,inplace=True)\n",
    "\n",
    "CompSci = pd.read_csv('ComputerScience.csv',index_col=0)\n",
    "CompSci['Typical Annual Salary'] = [x[1:] for x in CompSci['Typical Annual Salary']]\n",
    "CompSci['Typical Annual Salary'] = [int(x.replace(',','')) for x in CompSci['Typical Annual Salary']]\n",
    "\n",
    "SalPar.set_index('State',inplace=True)\n",
    "WageTargAvg.set_index('State',inplace=True)\n",
    "CostSumAvg.set_index('State',inplace=True)\n",
    "CompSci.set_index('State',inplace=True)\n",
    "SalPar = SalPar.join(WageTargAvg)\n",
    "SalPar = SalPar.join(CostSumAvg)\n",
    "SalPar = SalPar.join(CompSci)\n",
    "SalPar = SalPar.dropna()\n",
    "SalPar.reset_index(inplace=True)\n",
    "SalPar.head(5)"
   ]
  },
  {
   "cell_type": "code",
   "execution_count": null,
   "id": "cd012fea",
   "metadata": {},
   "outputs": [],
   "source": [
    "chart = plt.figure(figsize=(16,8))\n",
    "\n",
    "chart1 = sns.scatterplot(x = 'State',y='Income v Parity',\n",
    "                data = SalPar, legend=True)\n",
    "\n",
    "chart2 = sns.scatterplot(x = 'State',y='Wage Average',\n",
    "                data = SalPar, legend=True)\n",
    "\n",
    "chart3 = sns.scatterplot(x = 'State',y='Cost Average',\n",
    "                data = SalPar, legend=True)\n",
    "\n",
    "#chart4 = sns.scatterplot(x = 'State',y='Typical Annual Salary',\n",
    "#                data = SalPar, legend=True)\n",
    "\n",
    "chart1.tick_params(axis='x', labelrotation=90)\n",
    "#plt.legend([chart1, chart2, chart3], ['Income v Parity', 'Wage Average', 'Cost Average'])"
   ]
  },
  {
   "cell_type": "code",
   "execution_count": null,
   "id": "8302b509",
   "metadata": {},
   "outputs": [],
   "source": []
  }
 ],
 "metadata": {
  "kernelspec": {
   "display_name": "Python 3 (ipykernel)",
   "language": "python",
   "name": "python3"
  },
  "language_info": {
   "codemirror_mode": {
    "name": "ipython",
    "version": 3
   },
   "file_extension": ".py",
   "mimetype": "text/x-python",
   "name": "python",
   "nbconvert_exporter": "python",
   "pygments_lexer": "ipython3",
   "version": "3.10.2"
  }
 },
 "nbformat": 4,
 "nbformat_minor": 5
}
