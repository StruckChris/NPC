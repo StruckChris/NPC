{
 "cells": [
  {
   "cell_type": "code",
   "execution_count": 1,
   "id": "c5ae8175",
   "metadata": {},
   "outputs": [
    {
     "data": {
      "text/plain": [
       "'Code to Read through MIT Living Wage Data'"
      ]
     },
     "execution_count": 1,
     "metadata": {},
     "output_type": "execute_result"
    }
   ],
   "source": [
    "'''Code to Read through MIT Living Wage Data'''"
   ]
  },
  {
   "cell_type": "code",
   "execution_count": 2,
   "id": "091be0c6",
   "metadata": {},
   "outputs": [],
   "source": [
    "#import statements\n",
    "import os\n",
    "from os import listdir\n",
    "from os.path import isfile, join\n",
    "import pandas as pd\n",
    "thisdir = os.getcwd()"
   ]
  },
  {
   "cell_type": "code",
   "execution_count": 3,
   "id": "83e89e82",
   "metadata": {},
   "outputs": [],
   "source": [
    "StateNames = ['Alabama', 'Alaska', 'Arizona', 'Arkansas', 'California', 'Colorado', \n",
    "              'Connecticut', 'Delaware', 'Florida', 'Georgia', 'Hawaii', 'Idaho', \n",
    "              'Illinois', 'Indiana', 'Iowa', 'Kansas', 'Kentucky', 'Louisiana',\n",
    "              'Maine', 'Maryland', 'Massachusetts','Michigan', 'Minnesota',\n",
    "              'Mississippi', 'Missouri', 'Montana', 'Nebraska', 'Nevada', \n",
    "              'New Hampshire', 'New Jersey', 'New Mexico', 'New York', 'North Carolina',\n",
    "              'North Dakota', 'Ohio', 'Oklahoma', 'Oregon', 'Pennsylvania', \n",
    "              'Rhode Island', 'South Carolina', 'South Dakota', 'Tennessee', 'Texas', \n",
    "              'Utah', 'Vermont', 'Virginia', 'Washington', 'West Virginia', \n",
    "              'Wisconsin', 'Wyoming']"
   ]
  },
  {
   "cell_type": "code",
   "execution_count": 4,
   "id": "d0bf4678",
   "metadata": {},
   "outputs": [],
   "source": [
    "#dataframe framework\n",
    "WageDF = pd.DataFrame(columns = ['WageType','1 ADULT - 0','1 ADULT - 1','1 ADULT - 2','1 ADULT - 3', \n",
    "                                '2 ADULTS(1 WORKING) - 0', '2 ADULTS(1 WORKING) - 1', '2 ADULTS(1 WORKING) - 2',\n",
    "                                 '2 ADULTS(1 WORKING) - 3','2 ADULTS(BOTH WORKING) - 0','2 ADULTS(BOTH WORKING) - 1', \n",
    "                                 '2 ADULTS(BOTH WORKING) - 2', '2 ADULTS(BOTH WORKING) - 3', 'State', 'County'])\n",
    "CostDF = pd.DataFrame(columns = ['WageType','1 ADULT - 0','1 ADULT - 1','1 ADULT - 2','1 ADULT - 3', \n",
    "                                '2 ADULTS(1 WORKING) - 0', '2 ADULTS(1 WORKING) - 1', '2 ADULTS(1 WORKING) - 2',\n",
    "                                 '2 ADULTS(1 WORKING) - 3','2 ADULTS(BOTH WORKING) - 0','2 ADULTS(BOTH WORKING) - 1', \n",
    "                                 '2 ADULTS(BOTH WORKING) - 2', '2 ADULTS(BOTH WORKING) - 3', 'State', 'County'])\n",
    "SalaryDF = pd.DataFrame(columns = ['Occupational Area', 'Typical Annual Salary', 'State', 'County'])"
   ]
  },
  {
   "cell_type": "code",
   "execution_count": 5,
   "id": "506d007e",
   "metadata": {},
   "outputs": [],
   "source": [
    "for r, d, f in os.walk(thisdir):\n",
    "    for drct in d:\n",
    "        #print(drct)\n",
    "        for State in StateNames:\n",
    "            if State in drct:\n",
    "                #print(os.path.join(r, drct))\n",
    "                drctry = thisdir + \"\\\\\" + 'HTMLTableReader' + \"\\\\\" + drct\n",
    "                #print(drctry)\n",
    "                for r2, d2, f2 in os.walk(drctry):\n",
    "                    for file in f2:\n",
    "                        if '2' in file:\n",
    "                            columns = ['Occupational Area', 'Typical Annual Salary']\n",
    "                        else:\n",
    "                            columns = ['WageType','1 ADULT - 0','1 ADULT - 1','1 ADULT - 2','1 ADULT - 3', \n",
    "                                       '2 ADULTS(1 WORKING) - 0', '2 ADULTS(1 WORKING) - 1', '2 ADULTS(1 WORKING) - 2',\n",
    "                                       '2 ADULTS(1 WORKING) - 3', '2 ADULTS(BOTH WORKING) - 0',\n",
    "                                       '2 ADULTS(BOTH WORKING) - 1', '2 ADULTS(BOTH WORKING) - 2', \n",
    "                                       '2 ADULTS(BOTH WORKING) - 3']\n",
    "                        df = pd.read_csv(drctry + \"\\\\\" + file, header = None, names = columns, index_col=False)\n",
    "                        df['State'] = State\n",
    "                        lngth = len(State)\n",
    "                        lngth2 = -len('Table0.csv')\n",
    "                        df['County'] = file[lngth:lngth2]\n",
    "                        if '0' in file:\n",
    "                            WageDF = pd.concat([WageDF,df])\n",
    "                        elif '1' in file:\n",
    "                            CostDF = pd.concat([CostDF,df])\n",
    "                        else:\n",
    "                            SalaryDF = pd.concat([SalaryDF,df])\n",
    "                        #print(df)\n",
    "                        #break\n",
    "                        #print(file)\n",
    "                        #break\n",
    "                        #print(os.path.join(r2, file))\n"
   ]
  },
  {
   "cell_type": "code",
   "execution_count": 6,
   "id": "7ea9883a",
   "metadata": {},
   "outputs": [],
   "source": [
    "WageDF.to_csv('WageDF.csv')\n",
    "CostDF.to_csv('CostDF.csv')\n",
    "SalaryDF.to_csv('SalaryDF.csv')"
   ]
  },
  {
   "cell_type": "code",
   "execution_count": null,
   "id": "dcccfc58",
   "metadata": {},
   "outputs": [],
   "source": []
  },
  {
   "cell_type": "code",
   "execution_count": null,
   "id": "35e5ad22",
   "metadata": {},
   "outputs": [],
   "source": []
  }
 ],
 "metadata": {
  "kernelspec": {
   "display_name": "Python 3 (ipykernel)",
   "language": "python",
   "name": "python3"
  },
  "language_info": {
   "codemirror_mode": {
    "name": "ipython",
    "version": 3
   },
   "file_extension": ".py",
   "mimetype": "text/x-python",
   "name": "python",
   "nbconvert_exporter": "python",
   "pygments_lexer": "ipython3",
   "version": "3.10.2"
  }
 },
 "nbformat": 4,
 "nbformat_minor": 5
}
