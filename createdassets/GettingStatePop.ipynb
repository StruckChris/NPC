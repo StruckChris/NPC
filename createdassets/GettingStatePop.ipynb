{
 "cells": [
  {
   "cell_type": "code",
   "execution_count": 1,
   "id": "cc33279b",
   "metadata": {},
   "outputs": [],
   "source": [
    "#this will combine the existing Cost, Salary, and Wage DFs from the MIT data \n",
    "#with the county population and then summarize this by state into one state data DF"
   ]
  },
  {
   "cell_type": "code",
   "execution_count": 2,
   "id": "bab6cc3d",
   "metadata": {},
   "outputs": [],
   "source": [
    "import pandas as pd"
   ]
  },
  {
   "cell_type": "code",
   "execution_count": 3,
   "id": "d0360e0e",
   "metadata": {},
   "outputs": [],
   "source": [
    "CostDF = pd.read_csv('CostDF.csv')\n",
    "SalaryDF = pd.read_csv('SalaryDF.csv')\n",
    "WageDF = pd.read_csv('WageDF.csv')\n",
    "\n",
    "for d in [CostDF, SalaryDF, WageDF]:\n",
    "    d.drop(['Unnamed: 0'], axis=1,inplace=True)"
   ]
  },
  {
   "cell_type": "code",
   "execution_count": 4,
   "id": "13998b96",
   "metadata": {},
   "outputs": [],
   "source": [
    "#CountyPopUSCensus\n",
    "#Cpuc\n",
    "CPUC = pd.read_excel('co-est2022-pop.xlsx', header = [3],\n",
    "                     skiprows = [4,3149,3150,3151,3152,3153])"
   ]
  },
  {
   "cell_type": "code",
   "execution_count": 5,
   "id": "9c86e84b",
   "metadata": {},
   "outputs": [],
   "source": [
    "issuelist = ['Aleutians West',\n",
    " 'Bethel',\n",
    " 'Carson City',\n",
    " 'Dillingham',\n",
    " 'East Baton Rouge',\n",
    " 'Fairbanks North Star',\n",
    " 'FairfieldConnecticut',\n",
    " 'Fond du Lac',\n",
    " 'HartfordConnecticut',\n",
    " 'Hoonah-Angoon',\n",
    " 'Isle of Wight',\n",
    " 'King and Queen',\n",
    " 'Kusilvak',\n",
    " 'Lac qui Parle',\n",
    " 'Lake and Peninsula',\n",
    " 'Lake of the Woods',\n",
    " 'Lewis and Clark',\n",
    " 'LitchfieldConnecticut',\n",
    " 'MiddlesexConnecticut',\n",
    " 'New HavenConnecticut',\n",
    " 'New LondonConnecticut',\n",
    " 'Nome',\n",
    " 'Prince of Wales-Hyder',\n",
    " 'San Luis Obispo',\n",
    " 'Southeast Fairbanks',\n",
    " 'TollandConnecticut',\n",
    " 'Valdez-Cordova',\n",
    " 'West Baton Rouge',\n",
    " 'WindhamConnecticut',\n",
    " 'Yukon-Koyukuk',\n",
    "            'St. John the Baptist']\n",
    "\n",
    "\n",
    "def GetCountyName(x):\n",
    "    n = 0\n",
    "    CountyList = x.split()\n",
    "    #print(CountyList[2])\n",
    "    if ',' in CountyList[2]:\n",
    "        CountyName = str(CountyList[0][1:]) + ' ' + str(CountyList[1])\n",
    "        #print(CountyName)\n",
    "        return CountyName\n",
    "    #elif 'the' in CountyList[2]:\n",
    "    #    return 'St. John the Baptist'\n",
    "    elif ',' not in CountyList[1]:\n",
    "        CountyList = x.split(',')\n",
    "        for i in issuelist:\n",
    "            if i in CountyList[0]:\n",
    "                return i\n",
    "    else:\n",
    "        return CountyList[0][1:]"
   ]
  },
  {
   "cell_type": "code",
   "execution_count": 6,
   "id": "eb32d7d9",
   "metadata": {},
   "outputs": [],
   "source": [
    "StateNames = ['Alabama', 'Alaska', 'Arizona', 'Arkansas', 'California', 'Colorado', \n",
    "              'Connecticut', 'Delaware', 'Florida', 'Georgia', 'Hawaii', 'Idaho', \n",
    "              'Illinois', 'Indiana', 'Iowa', 'Kansas', 'Kentucky', 'Louisiana',\n",
    "              'Maine', 'Maryland', 'Massachusetts','Michigan', 'Minnesota',\n",
    "              'Mississippi', 'Missouri', 'Montana', 'Nebraska', 'Nevada', \n",
    "              'New Hampshire', 'New Jersey', 'New Mexico', 'New York', 'North Carolina',\n",
    "              'North Dakota', 'Ohio', 'Oklahoma', 'Oregon', 'Pennsylvania', \n",
    "              'Rhode Island', 'South Carolina', 'South Dakota', 'Tennessee', 'Texas', \n",
    "              'Utah', 'Vermont', 'Virginia', 'Washington', 'West Virginia', \n",
    "              'Wisconsin', 'Wyoming']"
   ]
  },
  {
   "cell_type": "code",
   "execution_count": 7,
   "id": "60145cb8",
   "metadata": {},
   "outputs": [],
   "source": [
    "def GetStateName(x):\n",
    "    Names = x.split(',')\n",
    "    for y in StateNames:\n",
    "        if 'West Virginia' in Names[-1]:\n",
    "            return 'West Virginia'\n",
    "        elif y in Names[-1]:\n",
    "            return y"
   ]
  },
  {
   "cell_type": "code",
   "execution_count": 8,
   "id": "b1b95039",
   "metadata": {},
   "outputs": [],
   "source": [
    "CPUC['County'] = [GetCountyName(x) for x in CPUC['Unnamed: 0']]\n",
    "CPUC['State'] = [GetStateName(x) for x in CPUC['Unnamed: 0']]\n",
    "CPUC['CountyState'] = CPUC['County'] + CPUC['State']"
   ]
  },
  {
   "cell_type": "code",
   "execution_count": 9,
   "id": "c4af0c1a",
   "metadata": {},
   "outputs": [
    {
     "name": "stderr",
     "output_type": "stream",
     "text": [
      "C:\\Users\\chrss\\AppData\\Local\\Temp\\ipykernel_24456\\3714825379.py:1: UserWarning: DataFrame columns are not unique, some columns will be omitted.\n",
      "  CPUCdict = CPUC.set_index('CountyState').T.to_dict('list')\n"
     ]
    }
   ],
   "source": [
    "CPUCdict = CPUC.set_index('CountyState').T.to_dict('list')\n",
    "#CPUC.where(CPUC['County'] == 'Litchfield').dropna(subset='County') "
   ]
  },
  {
   "cell_type": "code",
   "execution_count": null,
   "id": "5c1260af",
   "metadata": {},
   "outputs": [],
   "source": [
    "\n"
   ]
  },
  {
   "cell_type": "code",
   "execution_count": 10,
   "id": "81fb998c",
   "metadata": {},
   "outputs": [],
   "source": [
    "fixlist = []\n",
    "def Get2022Pop(x):\n",
    "    try:\n",
    "        b = CPUCdict[str(x)]\n",
    "    except:\n",
    "        try:\n",
    "            a = x.split('ginia')\n",
    "            newx = a[1][:-3]\n",
    "            newx = newx + 'West Virginia'\n",
    "            b = CPUCdict[str(newx)]\n",
    "        except:\n",
    "            if 'Connecticut' in x:\n",
    "                return 453275\n",
    "            else:\n",
    "                fixlist.append(x)\n",
    "                b = [0,1,2,3,0]\n",
    "    return b[4]"
   ]
  },
  {
   "cell_type": "code",
   "execution_count": 11,
   "id": "d18d966f",
   "metadata": {},
   "outputs": [],
   "source": [
    "#fixing West Virginia:\n",
    "#for d in [CostDF, SalaryDF, WageDF]:\n",
    "#    d['State'] = ['West Virginia' for x in d['County'] if x[:4] is 'ginia']\n",
    "#    d['County'] = [x.split('ginia')[1][:-3] for x in d['County'] if x[:4] is 'ginia']\n",
    "#CostDF"
   ]
  },
  {
   "cell_type": "code",
   "execution_count": 12,
   "id": "f0f56b9a",
   "metadata": {},
   "outputs": [],
   "source": [
    "for d in [CostDF, SalaryDF, WageDF]:\n",
    "    d['CountyState'] = d['County'] + d['State']\n",
    "    d['2022 Population Est'] = [Get2022Pop(str(x)) for x in d['CountyState']]\n",
    "    d.drop(['CountyState'],axis=1,inplace=True)\n"
   ]
  },
  {
   "cell_type": "code",
   "execution_count": 13,
   "id": "97bd11f5",
   "metadata": {},
   "outputs": [
    {
     "data": {
      "text/plain": [
       "{'BethelAlaska',\n",
       " 'Carson CityNevada',\n",
       " 'DillinghamAlaska',\n",
       " 'Hoonah-AngoonAlaska',\n",
       " 'KusilvakAlaska',\n",
       " 'NomeAlaska',\n",
       " 'Valdez-CordovaAlaska',\n",
       " 'Yukon-KoyukukAlaska'}"
      ]
     },
     "execution_count": 13,
     "metadata": {},
     "output_type": "execute_result"
    }
   ],
   "source": [
    "fixlist = set(fixlist)\n",
    "fixlist"
   ]
  },
  {
   "cell_type": "code",
   "execution_count": 14,
   "id": "8c23c4db",
   "metadata": {},
   "outputs": [
    {
     "data": {
      "text/html": [
       "<div>\n",
       "<style scoped>\n",
       "    .dataframe tbody tr th:only-of-type {\n",
       "        vertical-align: middle;\n",
       "    }\n",
       "\n",
       "    .dataframe tbody tr th {\n",
       "        vertical-align: top;\n",
       "    }\n",
       "\n",
       "    .dataframe thead th {\n",
       "        text-align: right;\n",
       "    }\n",
       "</style>\n",
       "<table border=\"1\" class=\"dataframe\">\n",
       "  <thead>\n",
       "    <tr style=\"text-align: right;\">\n",
       "      <th></th>\n",
       "      <th>Occupational Area</th>\n",
       "      <th>Typical Annual Salary</th>\n",
       "      <th>State</th>\n",
       "      <th>County</th>\n",
       "      <th>2022 Population Est</th>\n",
       "    </tr>\n",
       "  </thead>\n",
       "  <tbody>\n",
       "    <tr>\n",
       "      <th>0</th>\n",
       "      <td>Management</td>\n",
       "      <td>$101,778</td>\n",
       "      <td>Alabama</td>\n",
       "      <td>Autauga</td>\n",
       "      <td>59759</td>\n",
       "    </tr>\n",
       "    <tr>\n",
       "      <th>1</th>\n",
       "      <td>Business &amp;amp; Financial Operations</td>\n",
       "      <td>$71,198</td>\n",
       "      <td>Alabama</td>\n",
       "      <td>Autauga</td>\n",
       "      <td>59759</td>\n",
       "    </tr>\n",
       "    <tr>\n",
       "      <th>2</th>\n",
       "      <td>Computer &amp;amp; Mathematical</td>\n",
       "      <td>$86,938</td>\n",
       "      <td>Alabama</td>\n",
       "      <td>Autauga</td>\n",
       "      <td>59759</td>\n",
       "    </tr>\n",
       "    <tr>\n",
       "      <th>3</th>\n",
       "      <td>Architecture &amp;amp; Engineering</td>\n",
       "      <td>$90,447</td>\n",
       "      <td>Alabama</td>\n",
       "      <td>Autauga</td>\n",
       "      <td>59759</td>\n",
       "    </tr>\n",
       "    <tr>\n",
       "      <th>4</th>\n",
       "      <td>Life, Physical, &amp;amp; Social Science</td>\n",
       "      <td>$64,992</td>\n",
       "      <td>Alabama</td>\n",
       "      <td>Autauga</td>\n",
       "      <td>59759</td>\n",
       "    </tr>\n",
       "    <tr>\n",
       "      <th>...</th>\n",
       "      <td>...</td>\n",
       "      <td>...</td>\n",
       "      <td>...</td>\n",
       "      <td>...</td>\n",
       "      <td>...</td>\n",
       "    </tr>\n",
       "    <tr>\n",
       "      <th>69735</th>\n",
       "      <td>Farming, Fishing, &amp;amp; Forestry</td>\n",
       "      <td>$33,534</td>\n",
       "      <td>Wyoming</td>\n",
       "      <td>Weston</td>\n",
       "      <td>6860</td>\n",
       "    </tr>\n",
       "    <tr>\n",
       "      <th>69736</th>\n",
       "      <td>Construction &amp;amp; Extraction</td>\n",
       "      <td>$55,501</td>\n",
       "      <td>Wyoming</td>\n",
       "      <td>Weston</td>\n",
       "      <td>6860</td>\n",
       "    </tr>\n",
       "    <tr>\n",
       "      <th>69737</th>\n",
       "      <td>Installation, Maintenance, &amp;amp; Repair</td>\n",
       "      <td>$59,503</td>\n",
       "      <td>Wyoming</td>\n",
       "      <td>Weston</td>\n",
       "      <td>6860</td>\n",
       "    </tr>\n",
       "    <tr>\n",
       "      <th>69738</th>\n",
       "      <td>Production</td>\n",
       "      <td>$55,854</td>\n",
       "      <td>Wyoming</td>\n",
       "      <td>Weston</td>\n",
       "      <td>6860</td>\n",
       "    </tr>\n",
       "    <tr>\n",
       "      <th>69739</th>\n",
       "      <td>Transportation &amp;amp; Material Moving</td>\n",
       "      <td>$45,218</td>\n",
       "      <td>Wyoming</td>\n",
       "      <td>Weston</td>\n",
       "      <td>6860</td>\n",
       "    </tr>\n",
       "  </tbody>\n",
       "</table>\n",
       "<p>69740 rows × 5 columns</p>\n",
       "</div>"
      ],
      "text/plain": [
       "                             Occupational Area Typical Annual Salary    State  \\\n",
       "0                                   Management             $101,778   Alabama   \n",
       "1          Business &amp; Financial Operations              $71,198   Alabama   \n",
       "2                  Computer &amp; Mathematical              $86,938   Alabama   \n",
       "3               Architecture &amp; Engineering              $90,447   Alabama   \n",
       "4         Life, Physical, &amp; Social Science              $64,992   Alabama   \n",
       "...                                        ...                   ...      ...   \n",
       "69735         Farming, Fishing, &amp; Forestry              $33,534   Wyoming   \n",
       "69736            Construction &amp; Extraction              $55,501   Wyoming   \n",
       "69737  Installation, Maintenance, &amp; Repair              $59,503   Wyoming   \n",
       "69738                               Production              $55,854   Wyoming   \n",
       "69739     Transportation &amp; Material Moving              $45,218   Wyoming   \n",
       "\n",
       "        County  2022 Population Est  \n",
       "0      Autauga                59759  \n",
       "1      Autauga                59759  \n",
       "2      Autauga                59759  \n",
       "3      Autauga                59759  \n",
       "4      Autauga                59759  \n",
       "...        ...                  ...  \n",
       "69735   Weston                 6860  \n",
       "69736   Weston                 6860  \n",
       "69737   Weston                 6860  \n",
       "69738   Weston                 6860  \n",
       "69739   Weston                 6860  \n",
       "\n",
       "[69740 rows x 5 columns]"
      ]
     },
     "execution_count": 14,
     "metadata": {},
     "output_type": "execute_result"
    }
   ],
   "source": [
    "SalaryDF"
   ]
  },
  {
   "cell_type": "code",
   "execution_count": 15,
   "id": "1701e013",
   "metadata": {},
   "outputs": [],
   "source": [
    "WageDF.to_csv('WageDFwithPop.csv')\n",
    "CostDF.to_csv('CostDFwithPop.csv')\n",
    "SalaryDF.to_csv('SalaryDFwithPop.csv')"
   ]
  },
  {
   "cell_type": "code",
   "execution_count": null,
   "id": "00ad14a9",
   "metadata": {},
   "outputs": [],
   "source": []
  },
  {
   "cell_type": "code",
   "execution_count": null,
   "id": "6ae69e7d",
   "metadata": {},
   "outputs": [],
   "source": []
  }
 ],
 "metadata": {
  "kernelspec": {
   "display_name": "Python 3 (ipykernel)",
   "language": "python",
   "name": "python3"
  },
  "language_info": {
   "codemirror_mode": {
    "name": "ipython",
    "version": 3
   },
   "file_extension": ".py",
   "mimetype": "text/x-python",
   "name": "python",
   "nbconvert_exporter": "python",
   "pygments_lexer": "ipython3",
   "version": "3.10.2"
  }
 },
 "nbformat": 4,
 "nbformat_minor": 5
}
